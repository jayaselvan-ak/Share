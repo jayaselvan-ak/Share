{
  "nbformat": 4,
  "nbformat_minor": 0,
  "metadata": {
    "colab": {
      "provenance": []
    },
    "kernelspec": {
      "name": "python3",
      "display_name": "Python 3"
    },
    "language_info": {
      "name": "python"
    }
  },
  "cells": [
    {
      "cell_type": "code",
      "source": [
        "import pandas as pd\n",
        "import numpy as np"
      ],
      "metadata": {
        "id": "Rc9kjlwlacdJ"
      },
      "execution_count": null,
      "outputs": []
    },
    {
      "cell_type": "markdown",
      "source": [
        "# How To Use Python pandas dropna() to Drop NA Values from DataFrame\n",
        "https://jsol369.blogspot.com/2023/11/removing-missing-data-with-pandas.html"
      ],
      "metadata": {
        "id": "d27gENpRaoSY"
      }
    },
    {
      "cell_type": "code",
      "execution_count": null,
      "metadata": {
        "colab": {
          "base_uri": "https://localhost:8080/"
        },
        "id": "qbJIIPi2Z1gw",
        "outputId": "740c2c52-b446-42fa-ec60-2cbd1aa5fd72"
      },
      "outputs": [
        {
          "output_type": "stream",
          "name": "stdout",
          "text": [
            "     A    B    C\n",
            "1  2.0  3.0  8.0\n"
          ]
        }
      ],
      "source": [
        "# Create a DataFrame with some missing values\n",
        "df = pd.DataFrame({'A': [1, 2, np.nan, 4, 5], 'B': [np.nan, 3, 4, 5, 6], 'C': [7, 8, 9, np.nan, np.nan]})\n",
        "\n",
        "# Remove rows with any missing values\n",
        "df.dropna(how='any', inplace=True)\n",
        "\n",
        "# Print the DataFrame\n",
        "print(df)"
      ]
    },
    {
      "cell_type": "code",
      "source": [
        "# Create a DataFrame with some missing values\n",
        "df = pd.DataFrame({'A': [1, 2, np.nan, 4, 5], 'B': [np.nan, 3, 4, 5, 6], 'C': [np.nan, np.nan, np.nan, np.nan, np.nan]})\n",
        "\n",
        "# Remove columns with all missing values\n",
        "df.dropna(how='all', axis=1, inplace=True)\n",
        "\n",
        "# Print the DataFrame\n",
        "print(df)"
      ],
      "metadata": {
        "colab": {
          "base_uri": "https://localhost:8080/"
        },
        "id": "d_l1Wu4IZ9Fa",
        "outputId": "bc22969f-8e2a-4001-a147-604297a13b96"
      },
      "execution_count": null,
      "outputs": [
        {
          "output_type": "stream",
          "name": "stdout",
          "text": [
            "     A    B\n",
            "0  1.0  NaN\n",
            "1  2.0  3.0\n",
            "2  NaN  4.0\n",
            "3  4.0  5.0\n",
            "4  5.0  6.0\n"
          ]
        }
      ]
    },
    {
      "cell_type": "code",
      "source": [],
      "metadata": {
        "id": "HlTJKXnCaa4X"
      },
      "execution_count": null,
      "outputs": []
    }
  ]
}